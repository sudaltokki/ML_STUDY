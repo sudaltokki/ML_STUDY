{
  "nbformat": 4,
  "nbformat_minor": 0,
  "metadata": {
    "colab": {
      "name": "Tensor.ipynb",
      "provenance": [],
      "collapsed_sections": [],
      "authorship_tag": "ABX9TyN55d/6hnm7pfHScO6+J7hM",
      "include_colab_link": true
    },
    "kernelspec": {
      "name": "python3",
      "display_name": "Python 3"
    },
    "language_info": {
      "name": "python"
    },
    "gpuClass": "standard"
  },
  "cells": [
    {
      "cell_type": "markdown",
      "metadata": {
        "id": "view-in-github",
        "colab_type": "text"
      },
      "source": [
        "<a href=\"https://colab.research.google.com/github/sudaltokki/ML_STUDY/blob/main/Miday/Tensor.ipynb\" target=\"_parent\"><img src=\"https://colab.research.google.com/assets/colab-badge.svg\" alt=\"Open In Colab\"/></a>"
      ]
    },
    {
      "cell_type": "markdown",
      "source": [
        "**Tensor**"
      ],
      "metadata": {
        "id": "GlMrhk8HOUtr"
      }
    },
    {
      "cell_type": "code",
      "execution_count": null,
      "metadata": {
        "id": "nqfLuWpCEwge"
      },
      "outputs": [],
      "source": [
        "import numpy as np\n",
        "import torch"
      ]
    },
    {
      "cell_type": "markdown",
      "source": [
        "텐서 생성"
      ],
      "metadata": {
        "id": "3nxih-QROLVS"
      }
    },
    {
      "cell_type": "code",
      "source": [
        "# 중첩 list를 지정\n",
        "t = torch.tensor([[1,2],[3,4.]])"
      ],
      "metadata": {
        "id": "N_PWsEb6KQbP"
      },
      "execution_count": null,
      "outputs": []
    },
    {
      "cell_type": "code",
      "source": [
        "# device를 지정하면 GPU에 텐서를 만들 수 있다\n",
        "t = torch.tensor([[1,2],[3,4.]], device=\"cuda:0\")"
      ],
      "metadata": {
        "id": "bg1SuAFsK29q"
      },
      "execution_count": null,
      "outputs": []
    },
    {
      "cell_type": "code",
      "source": [
        "# dtype를 사용해 데이터형을 지정하여 텐서를 만들 수 있다\n",
        "t = torch.tensor([[1,2],[3,4.]], dtype=torch.float64)"
      ],
      "metadata": {
        "id": "BHBU7fDOK9as"
      },
      "execution_count": null,
      "outputs": []
    },
    {
      "cell_type": "code",
      "source": [
        "# 0부터 9까지 수치로 초기화된 1차원 텐서\n",
        "t = torch.arange(0,10)"
      ],
      "metadata": {
        "id": "eGRMTaYGLDTJ"
      },
      "execution_count": null,
      "outputs": []
    },
    {
      "cell_type": "code",
      "source": [
        "# 모든 값이 0인 100*10의 테서를 작성해서 to 메서드로 GPU에 전송\n",
        "t = torch.zeros(100,10).to(\"cuda:0\")"
      ],
      "metadata": {
        "id": "7rIv6DtFLKFh"
      },
      "execution_count": null,
      "outputs": []
    },
    {
      "cell_type": "code",
      "source": [
        "# 정규 난수로 100*10의 텐서를 작성\n",
        "t = torch.randn(100,10)"
      ],
      "metadata": {
        "id": "PCKe56zjLWyz"
      },
      "execution_count": null,
      "outputs": []
    },
    {
      "cell_type": "code",
      "source": [
        "# 텐서의 shape은 size 메서드로 확인 가능\n",
        "t.size()"
      ],
      "metadata": {
        "colab": {
          "base_uri": "https://localhost:8080/"
        },
        "id": "gSbwqq7qLbI1",
        "outputId": "6055f637-e42b-499b-fbe6-a141886c20eb"
      },
      "execution_count": null,
      "outputs": [
        {
          "output_type": "execute_result",
          "data": {
            "text/plain": [
              "torch.Size([100, 10])"
            ]
          },
          "metadata": {},
          "execution_count": 7
        }
      ]
    },
    {
      "cell_type": "markdown",
      "source": [
        "텐서 변환"
      ],
      "metadata": {
        "id": "IrSVODSdOPe3"
      }
    },
    {
      "cell_type": "code",
      "source": [
        "# numpy 메서드를 사용해 ndarray로 변환\n",
        "t = torch.tensor([[1, 2],[3, 4.]])\n",
        "x = t.numpy()"
      ],
      "metadata": {
        "id": "JPtLGJQ1NwTq"
      },
      "execution_count": null,
      "outputs": []
    },
    {
      "cell_type": "code",
      "source": [
        "# GPU상의 텐서는 to 메서드로, CPU의 텐서로 이동(변환)할 필요가 있다\n",
        "t = torch.tensor([[1, 2],[3, 4.]], device=\"cuda:0\")\n",
        "x = t.to(\"cpu\").numpy()"
      ],
      "metadata": {
        "id": "hnSXDoTSOlns"
      },
      "execution_count": null,
      "outputs": []
    },
    {
      "cell_type": "markdown",
      "source": [
        "텐서의 인덱스 조작"
      ],
      "metadata": {
        "id": "S_1ljiYLO33H"
      }
    },
    {
      "cell_type": "code",
      "source": [
        "t = torch.tensor([[1,2,3],[4,5,6.]])"
      ],
      "metadata": {
        "id": "Vy1pIsGUO6j6"
      },
      "execution_count": null,
      "outputs": []
    },
    {
      "cell_type": "code",
      "source": [
        "# 스칼라 첨자 지정\n",
        "t[0,2]"
      ],
      "metadata": {
        "colab": {
          "base_uri": "https://localhost:8080/"
        },
        "id": "DHqhmmI4PKTX",
        "outputId": "e96d006c-e40f-4680-9d58-da1016f0cc73"
      },
      "execution_count": null,
      "outputs": [
        {
          "output_type": "execute_result",
          "data": {
            "text/plain": [
              "tensor(3.)"
            ]
          },
          "metadata": {},
          "execution_count": 11
        }
      ]
    },
    {
      "cell_type": "code",
      "source": [
        "# 슬라이스로 지정\n",
        "t[:,:2]"
      ],
      "metadata": {
        "colab": {
          "base_uri": "https://localhost:8080/"
        },
        "id": "4kMVg9FNPSKF",
        "outputId": "14617aff-ca2e-4052-d392-14d3b09ba998"
      },
      "execution_count": null,
      "outputs": [
        {
          "output_type": "execute_result",
          "data": {
            "text/plain": [
              "tensor([[1., 2.],\n",
              "        [4., 5.]])"
            ]
          },
          "metadata": {},
          "execution_count": 12
        }
      ]
    },
    {
      "cell_type": "code",
      "source": [
        "# 리스트로 지정\n",
        "t[:,[1,2]]"
      ],
      "metadata": {
        "colab": {
          "base_uri": "https://localhost:8080/"
        },
        "id": "cfnkQ2R-PpZJ",
        "outputId": "37d962a8-84c6-4d9e-fc3e-eafb94aafd40"
      },
      "execution_count": null,
      "outputs": [
        {
          "output_type": "execute_result",
          "data": {
            "text/plain": [
              "tensor([[2., 3.],\n",
              "        [5., 6.]])"
            ]
          },
          "metadata": {},
          "execution_count": 16
        }
      ]
    },
    {
      "cell_type": "code",
      "source": [
        "# [0,1]의 요소를 100으로 설정\n",
        "t[0,1] = 100"
      ],
      "metadata": {
        "colab": {
          "base_uri": "https://localhost:8080/"
        },
        "id": "wHrDfXO5P1LD",
        "outputId": "b3cf0b6c-6186-49bd-f5aa-27bafb026873"
      },
      "execution_count": null,
      "outputs": [
        {
          "output_type": "execute_result",
          "data": {
            "text/plain": [
              "tensor([[  1., 100.,   3.],\n",
              "        [  4.,   5.,   6.]])"
            ]
          },
          "metadata": {},
          "execution_count": 19
        }
      ]
    },
    {
      "cell_type": "code",
      "source": [
        "# 슬라이스를 사용한 일괄 대입\n",
        "t[:,1] = 200"
      ],
      "metadata": {
        "colab": {
          "base_uri": "https://localhost:8080/"
        },
        "id": "oCcRzLSUQggj",
        "outputId": "e83acd1e-2ca5-488d-b6ae-be18cdf74925"
      },
      "execution_count": null,
      "outputs": [
        {
          "output_type": "execute_result",
          "data": {
            "text/plain": [
              "tensor([[  1., 200.,   3.],\n",
              "        [  4., 200.,   6.]])"
            ]
          },
          "metadata": {},
          "execution_count": 21
        }
      ]
    },
    {
      "cell_type": "code",
      "source": [
        "# 마스크 배열을 사용해서 특정 조건의 요소만 치환\n",
        "t[t>10] = 20"
      ],
      "metadata": {
        "colab": {
          "base_uri": "https://localhost:8080/"
        },
        "id": "7hJYEcN4QsKI",
        "outputId": "90c8e890-5f95-4189-e31c-3fbc6849d348"
      },
      "execution_count": null,
      "outputs": [
        {
          "output_type": "execute_result",
          "data": {
            "text/plain": [
              "tensor([[ 1., 20.,  3.],\n",
              "        [ 4., 20.,  6.]])"
            ]
          },
          "metadata": {},
          "execution_count": 23
        }
      ]
    },
    {
      "cell_type": "markdown",
      "source": [
        "텐서 연산"
      ],
      "metadata": {
        "id": "DTc-RSabSdAW"
      }
    },
    {
      "cell_type": "code",
      "source": [
        "# 길이 3인 벡터\n",
        "v = torch.tensor([1,2,3.])\n",
        "w = torch.tensor([0,10,20.])\n",
        "# 2*3의 행렬\n",
        "m = torch.tensor([[0,1,2.],[100,200,300.]])"
      ],
      "metadata": {
        "id": "8z5bXq6hSfgZ"
      },
      "execution_count": null,
      "outputs": []
    },
    {
      "cell_type": "code",
      "source": [
        "# 벡터와 스칼라의 덧셈\n",
        "v2 = v + 10"
      ],
      "metadata": {
        "colab": {
          "base_uri": "https://localhost:8080/"
        },
        "id": "mHLNlKfATC2C",
        "outputId": "75ff9418-0984-46e4-ffc1-8236e9c6d5f8"
      },
      "execution_count": null,
      "outputs": [
        {
          "output_type": "execute_result",
          "data": {
            "text/plain": [
              "tensor([11., 12., 13.])"
            ]
          },
          "metadata": {},
          "execution_count": 27
        }
      ]
    },
    {
      "cell_type": "code",
      "source": [
        "# 제곱도 같은 방식\n",
        "v2 = v ** 2"
      ],
      "metadata": {
        "colab": {
          "base_uri": "https://localhost:8080/"
        },
        "id": "cbeWJLYETzH_",
        "outputId": "1e6b5b48-9ea5-4a33-d40a-1e32a7ce3d1d"
      },
      "execution_count": null,
      "outputs": [
        {
          "output_type": "execute_result",
          "data": {
            "text/plain": [
              "tensor([1., 4., 9.])"
            ]
          },
          "metadata": {},
          "execution_count": 28
        }
      ]
    },
    {
      "cell_type": "code",
      "source": [
        "# 동일 길이의 벡터 간 뺄셈\n",
        "z = v - w"
      ],
      "metadata": {
        "colab": {
          "base_uri": "https://localhost:8080/"
        },
        "id": "ZrYjJYSYT_Gu",
        "outputId": "76703b27-0d66-4b28-965d-874e7b199f9a"
      },
      "execution_count": null,
      "outputs": [
        {
          "output_type": "execute_result",
          "data": {
            "text/plain": [
              "tensor([  1.,  -8., -17.])"
            ]
          },
          "metadata": {},
          "execution_count": 29
        }
      ]
    },
    {
      "cell_type": "code",
      "source": [
        "# 여러 가지 조합\n",
        "u = 2 * v - w / 10 + 6.0"
      ],
      "metadata": {
        "colab": {
          "base_uri": "https://localhost:8080/"
        },
        "id": "potCYUpqUL0S",
        "outputId": "a40ee169-bd81-4f60-b882-af1acdb79e25"
      },
      "execution_count": null,
      "outputs": [
        {
          "output_type": "execute_result",
          "data": {
            "text/plain": [
              "tensor([ 8.,  9., 10.])"
            ]
          },
          "metadata": {},
          "execution_count": 30
        }
      ]
    },
    {
      "cell_type": "code",
      "source": [
        "# 행렬과 스칼라\n",
        "m2 = m * 2.0"
      ],
      "metadata": {
        "colab": {
          "base_uri": "https://localhost:8080/"
        },
        "id": "oUh3mi0yUYb5",
        "outputId": "35d75ece-716d-4ac0-b4a9-1fca7cfb850d"
      },
      "execution_count": null,
      "outputs": [
        {
          "output_type": "execute_result",
          "data": {
            "text/plain": [
              "tensor([[  0.,   2.,   4.],\n",
              "        [200., 400., 600.]])"
            ]
          },
          "metadata": {},
          "execution_count": 31
        }
      ]
    },
    {
      "cell_type": "code",
      "source": [
        "# 행렬과 벡터\n",
        "# (2, 3)인 행렬과 (3,)인 벡터이므로 브로드캐스트가 작동\n",
        "m3 = m + v"
      ],
      "metadata": {
        "colab": {
          "base_uri": "https://localhost:8080/"
        },
        "id": "3W1IUu9KUjLS",
        "outputId": "2dd164c3-d2a5-4254-dc19-257388cd4de8"
      },
      "execution_count": null,
      "outputs": [
        {
          "output_type": "execute_result",
          "data": {
            "text/plain": [
              "tensor([[  1.,   3.,   5.],\n",
              "        [101., 202., 303.]])"
            ]
          },
          "metadata": {},
          "execution_count": 32
        }
      ]
    },
    {
      "cell_type": "code",
      "source": [
        "# 행렬 간 처리\n",
        "m4 = m + m"
      ],
      "metadata": {
        "colab": {
          "base_uri": "https://localhost:8080/"
        },
        "id": "Gqb0v6CrVLvz",
        "outputId": "26b071a9-b3fb-4214-a336-83e4e3890cad"
      },
      "execution_count": null,
      "outputs": [
        {
          "output_type": "execute_result",
          "data": {
            "text/plain": [
              "tensor([[  0.,   2.,   4.],\n",
              "        [200., 400., 600.]])"
            ]
          },
          "metadata": {},
          "execution_count": 33
        }
      ]
    },
    {
      "cell_type": "markdown",
      "source": [
        "수학 함수"
      ],
      "metadata": {
        "id": "i0OaNDITVaar"
      }
    },
    {
      "cell_type": "code",
      "source": [
        "# 100*10의 테스트 데이터 생성\n",
        "X = torch.randn(100,10)"
      ],
      "metadata": {
        "id": "y3Wdku5yVcAI"
      },
      "execution_count": null,
      "outputs": []
    },
    {
      "cell_type": "code",
      "source": [
        "# 수학 함수를 포함하는 수식\n",
        "y = X * 2 + torch.abs(X)"
      ],
      "metadata": {
        "id": "JvnL90uMVmlR"
      },
      "execution_count": null,
      "outputs": []
    },
    {
      "cell_type": "code",
      "source": [
        "# 평균치 구하기\n",
        "m = torch.mean(X)\n",
        "# 함수가 아닌 메서드로도 사용할 수 있다\n",
        "m = X.mean()"
      ],
      "metadata": {
        "colab": {
          "base_uri": "https://localhost:8080/"
        },
        "id": "sOYm_ZoDV9Co",
        "outputId": "9d2a2f53-fcc3-4c2e-8abb-c04294d6e1c0"
      },
      "execution_count": null,
      "outputs": [
        {
          "output_type": "execute_result",
          "data": {
            "text/plain": [
              "tensor(0.0017)"
            ]
          },
          "metadata": {},
          "execution_count": 41
        }
      ]
    },
    {
      "cell_type": "code",
      "source": [
        "# 집계 결과는 0차원의 텐서로 item 메서드를 사용해서 값을 추출할 수 있다\n",
        "m_value = m.item()"
      ],
      "metadata": {
        "colab": {
          "base_uri": "https://localhost:8080/"
        },
        "id": "x48zrnN8WYtD",
        "outputId": "9c4d1694-7306-4a23-f026-0b080248156b"
      },
      "execution_count": null,
      "outputs": [
        {
          "output_type": "execute_result",
          "data": {
            "text/plain": [
              "0.0016544440295547247"
            ]
          },
          "metadata": {},
          "execution_count": 42
        }
      ]
    },
    {
      "cell_type": "code",
      "source": [
        "# 집계는 차원을 지정할 수 있다. 다음은 행 방향으로 집계해서, 열 단위로 평균값을 계산한다\n",
        "m2 = X.mean(0)"
      ],
      "metadata": {
        "colab": {
          "base_uri": "https://localhost:8080/"
        },
        "id": "5f3366YCW_nw",
        "outputId": "171d1f70-2e27-44b0-f0a0-fc10220c0cec"
      },
      "execution_count": null,
      "outputs": [
        {
          "output_type": "execute_result",
          "data": {
            "text/plain": [
              "tensor([-0.1014,  0.0584,  0.1421,  0.0080, -0.0668,  0.0662, -0.1623,  0.0378,\n",
              "         0.0565, -0.0219])"
            ]
          },
          "metadata": {},
          "execution_count": 43
        }
      ]
    },
    {
      "cell_type": "markdown",
      "source": [
        "텐서의 인덱스 조작"
      ],
      "metadata": {
        "id": "PsT5RlA2Xiul"
      }
    },
    {
      "cell_type": "code",
      "source": [
        "x1 = torch.tensor([[1,2],[3,4.]]) # 2*2\n",
        "x2 = torch.tensor([[10,20,30],[40,50,60.]]) # 2*3 "
      ],
      "metadata": {
        "id": "Dx6w2ipjXYuR"
      },
      "execution_count": null,
      "outputs": []
    },
    {
      "cell_type": "code",
      "source": [
        "# 2*2를 4*1로 보여준다\n",
        "x1.view(4,1)"
      ],
      "metadata": {
        "colab": {
          "base_uri": "https://localhost:8080/"
        },
        "id": "Vl5DPNbJX-aa",
        "outputId": "56c2f335-bc31-4817-c3f4-3e395c2ead9a"
      },
      "execution_count": null,
      "outputs": [
        {
          "output_type": "execute_result",
          "data": {
            "text/plain": [
              "tensor([[1.],\n",
              "        [2.],\n",
              "        [3.],\n",
              "        [4.]])"
            ]
          },
          "metadata": {},
          "execution_count": 45
        }
      ]
    },
    {
      "cell_type": "code",
      "source": [
        "# -1은 표현할 수 있는 자동화된 값으로 대체되며, 한 번만 사용할 수 있다. 아래 예에선 -1을 사용하면 자동으로 4가 된다\n",
        "x1.view(1,-1)"
      ],
      "metadata": {
        "colab": {
          "base_uri": "https://localhost:8080/"
        },
        "id": "FBQwDi-gYOM5",
        "outputId": "7b04f2b6-128e-4311-aed3-32f31a7679dd"
      },
      "execution_count": null,
      "outputs": [
        {
          "output_type": "execute_result",
          "data": {
            "text/plain": [
              "tensor([[1., 2., 3., 4.]])"
            ]
          },
          "metadata": {},
          "execution_count": 46
        }
      ]
    },
    {
      "cell_type": "code",
      "source": [
        "# 2*3을 전치해서 3*2로 만든다\n",
        "x2.t()"
      ],
      "metadata": {
        "colab": {
          "base_uri": "https://localhost:8080/"
        },
        "id": "m1rtWy8DYmbH",
        "outputId": "82d7ca94-7e80-43b3-fcda-ffbde41f81f6"
      },
      "execution_count": null,
      "outputs": [
        {
          "output_type": "execute_result",
          "data": {
            "text/plain": [
              "tensor([[10., 40.],\n",
              "        [20., 50.],\n",
              "        [30., 60.]])"
            ]
          },
          "metadata": {},
          "execution_count": 47
        }
      ]
    },
    {
      "cell_type": "code",
      "source": [
        "# dim=1로 결합하면 2*5의 텐서를 만든다\n",
        "torch.cat([x1,x2],dim=1)"
      ],
      "metadata": {
        "colab": {
          "base_uri": "https://localhost:8080/"
        },
        "id": "iBmzzzZ5Y6Mn",
        "outputId": "790bd0cb-ec00-4c44-d069-d1ee509ff8a8"
      },
      "execution_count": null,
      "outputs": [
        {
          "output_type": "execute_result",
          "data": {
            "text/plain": [
              "tensor([[ 1.,  2., 10., 20., 30.],\n",
              "        [ 3.,  4., 40., 50., 60.]])"
            ]
          },
          "metadata": {},
          "execution_count": 50
        }
      ]
    },
    {
      "cell_type": "code",
      "source": [
        "# HWC(높이, 너비, 색)를 CHW(색, 높이, 너비)로 변환\n",
        "# 64*32*3의 데이터가 100개\n",
        "hwc_img_data = torch.rand(100, 64, 32, 3)\n",
        "chw_img_data = hwc_img_data.transpose(1,2).transpose(1,3)"
      ],
      "metadata": {
        "id": "GzSQF4EvZP7H"
      },
      "execution_count": null,
      "outputs": []
    },
    {
      "cell_type": "markdown",
      "source": [
        "\n",
        "\n",
        "*   dot: 벡터 내적\n",
        "*   mv: 행렬과 벡터의 곱\n",
        "*   mm: 행렬과 행렬의 곱\n",
        "*   matmul: 인수의 종류에 따라 자동으로 dot, mv, mm을 선택해서 실행\n",
        "*   gesv: LU 분해를 사용한 연립 방정식의 해\n",
        "*   eig, symeig: 고유값 분해, symeig는 대칭 행렬보다 효율이 좋은 알고리즘\n",
        "*   svd: 특이값 분해\n",
        "\n"
      ],
      "metadata": {
        "id": "g1Zf8svpapJG"
      }
    },
    {
      "cell_type": "markdown",
      "source": [
        "선형 대수 연산"
      ],
      "metadata": {
        "id": "j259hEKtaUzO"
      }
    },
    {
      "cell_type": "code",
      "source": [
        "m = torch.randn(100,10)\n",
        "v = torch.randn(10)"
      ],
      "metadata": {
        "id": "yPrsohYKaYCi"
      },
      "execution_count": null,
      "outputs": []
    },
    {
      "cell_type": "code",
      "source": [
        "# 내적\n",
        "d = torch.dot(v,v)"
      ],
      "metadata": {
        "colab": {
          "base_uri": "https://localhost:8080/"
        },
        "id": "QJhHuO-MagTD",
        "outputId": "b9571ebe-5ee6-4d10-9885-91196100816b"
      },
      "execution_count": null,
      "outputs": [
        {
          "output_type": "execute_result",
          "data": {
            "text/plain": [
              "tensor(9.6564)"
            ]
          },
          "metadata": {},
          "execution_count": 57
        }
      ]
    },
    {
      "cell_type": "code",
      "source": [
        "# 100*10의 행렬과 길이 10인 벡터의 곱. 결과는 길이 100인 벡터\n",
        "v2 = torch.mv(m,v)"
      ],
      "metadata": {
        "colab": {
          "base_uri": "https://localhost:8080/"
        },
        "id": "WpwdnZsmcZed",
        "outputId": "050b4caf-c574-49b9-96e4-a5da0cd465e0"
      },
      "execution_count": null,
      "outputs": [
        {
          "output_type": "execute_result",
          "data": {
            "text/plain": [
              "tensor([ 0.4069,  5.7904,  3.2561,  3.3384,  5.3324,  3.3465, -1.2255,  2.3690,\n",
              "         2.7487,  1.4148,  2.3482,  1.0583, -2.9924, -1.8135,  8.0294, -4.0355,\n",
              "         2.0914,  2.5001,  1.4544, -2.1551,  1.4343, -1.3190, -0.1646,  3.7672,\n",
              "         0.6057,  3.7425, -1.9217,  3.2749, -2.9405,  2.9033, -1.0100,  3.5686,\n",
              "        -2.0592,  1.1731,  1.5397,  2.2251, -3.3635,  1.0194, -3.4333,  2.9572,\n",
              "        -3.9494,  0.2499,  2.0215,  2.6004,  5.1248,  3.5037,  2.4964,  3.4239,\n",
              "        -0.5314, -1.1112,  5.5699,  4.1204,  6.5778,  0.9430, -6.7062, -0.4561,\n",
              "        -3.3485, -2.2957,  3.2843,  4.5080, -7.4255,  5.5402,  0.9674, -3.2350,\n",
              "         1.6327, -2.4147, -1.3809,  4.4467, -1.4071,  0.3381,  0.7026,  3.0297,\n",
              "         1.1024,  0.5028, -0.2648,  4.5075,  1.0065,  2.3970,  1.7114,  1.3730,\n",
              "         4.9459,  2.6194, -1.8991,  0.5459,  0.9873,  3.8411, -4.5090, -4.1979,\n",
              "        -2.0638, -0.7332, -1.6071, -1.5652, -6.1801, -1.9065,  4.1446,  1.3598,\n",
              "         8.5009,  6.0658, -2.1851, -6.9299])"
            ]
          },
          "metadata": {},
          "execution_count": 58
        }
      ]
    },
    {
      "cell_type": "code",
      "source": [
        "# 행렬곱\n",
        "m2 = torch.mm(m.t(),m)"
      ],
      "metadata": {
        "colab": {
          "base_uri": "https://localhost:8080/"
        },
        "id": "D2zebdlKcvOs",
        "outputId": "751088f4-d6f9-4f24-8c69-3869b816c389"
      },
      "execution_count": null,
      "outputs": [
        {
          "output_type": "execute_result",
          "data": {
            "text/plain": [
              "tensor([[ 9.9847e+01,  6.0712e+00, -5.7159e+00, -4.0354e+00, -1.1215e+01,\n",
              "         -1.8800e+01,  4.3084e+00, -5.2909e-01,  1.6216e+01,  3.0195e+00],\n",
              "        [ 6.0712e+00,  1.1944e+02,  1.6344e+01, -7.2349e-02, -7.2224e+00,\n",
              "          2.2491e+00,  1.8358e+01, -2.1413e+00,  9.2520e+00, -5.3541e+00],\n",
              "        [-5.7159e+00,  1.6344e+01,  9.5214e+01,  6.8481e+00, -7.5125e-01,\n",
              "         -6.6878e+00,  1.5643e+01, -6.8507e+00, -1.4903e+01, -5.6057e+00],\n",
              "        [-4.0354e+00, -7.2349e-02,  6.8481e+00,  1.1378e+02,  4.7633e+00,\n",
              "         -1.0774e-01, -1.2896e+00,  5.7509e+00, -4.4964e-01,  1.0761e+01],\n",
              "        [-1.1215e+01, -7.2224e+00, -7.5125e-01,  4.7633e+00,  9.1019e+01,\n",
              "         -1.4247e+00, -5.2610e+00, -1.3594e+01,  5.5237e+00, -2.6552e+01],\n",
              "        [-1.8800e+01,  2.2491e+00, -6.6878e+00, -1.0774e-01, -1.4247e+00,\n",
              "          1.0083e+02, -5.6614e+00,  7.0608e+00, -2.9775e+00,  5.9227e+00],\n",
              "        [ 4.3084e+00,  1.8358e+01,  1.5643e+01, -1.2896e+00, -5.2610e+00,\n",
              "         -5.6614e+00,  9.2138e+01, -6.2623e-01, -1.1704e+00, -1.1113e+01],\n",
              "        [-5.2909e-01, -2.1413e+00, -6.8507e+00,  5.7509e+00, -1.3594e+01,\n",
              "          7.0608e+00, -6.2623e-01,  9.9731e+01,  6.1136e+00,  2.8475e+01],\n",
              "        [ 1.6216e+01,  9.2520e+00, -1.4903e+01, -4.4964e-01,  5.5237e+00,\n",
              "         -2.9775e+00, -1.1704e+00,  6.1136e+00,  1.0993e+02, -1.7520e+00],\n",
              "        [ 3.0195e+00, -5.3541e+00, -5.6057e+00,  1.0761e+01, -2.6552e+01,\n",
              "          5.9227e+00, -1.1113e+01,  2.8475e+01, -1.7520e+00,  1.2048e+02]])"
            ]
          },
          "metadata": {},
          "execution_count": 60
        }
      ]
    },
    {
      "cell_type": "code",
      "source": [
        "# 특이값 분해\n",
        "u, s, v = torch.svd(m)"
      ],
      "metadata": {
        "colab": {
          "base_uri": "https://localhost:8080/"
        },
        "id": "JD0FmB7sc6Qf",
        "outputId": "d6f3a392-1036-4afc-eea3-44dc8d337be9"
      },
      "execution_count": null,
      "outputs": [
        {
          "output_type": "execute_result",
          "data": {
            "text/plain": [
              "tensor([[-0.0148,  0.3640, -0.4479,  0.0159, -0.3519,  0.2115, -0.4216,  0.0472,\n",
              "          0.4728, -0.3072],\n",
              "        [ 0.2261,  0.6729,  0.1980, -0.0108,  0.3975,  0.3410,  0.1886,  0.3686,\n",
              "         -0.0868, -0.0592],\n",
              "        [ 0.2169,  0.2212,  0.4546,  0.0299, -0.2153, -0.1214,  0.3247, -0.4539,\n",
              "          0.5603,  0.1002],\n",
              "        [-0.1576,  0.0256,  0.3088,  0.8701, -0.0961,  0.1007, -0.2834,  0.0692,\n",
              "         -0.0618,  0.1169],\n",
              "        [ 0.3066, -0.3140, -0.0738,  0.3210,  0.1573, -0.1070,  0.3134,  0.1159,\n",
              "          0.1283, -0.7312],\n",
              "        [-0.1601, -0.1695,  0.2344, -0.1381,  0.6689,  0.1242, -0.4694, -0.2681,\n",
              "          0.3103, -0.1423],\n",
              "        [ 0.2183,  0.3534,  0.1689, -0.0660, -0.0627, -0.5610, -0.3821, -0.2383,\n",
              "         -0.4188, -0.3127],\n",
              "        [-0.4619,  0.1507,  0.0193,  0.0061,  0.1433, -0.6323,  0.0931,  0.4671,\n",
              "          0.3389,  0.0391],\n",
              "        [-0.0192,  0.2430, -0.5964,  0.3353,  0.3901, -0.1618,  0.2073, -0.4518,\n",
              "         -0.0321,  0.2142],\n",
              "        [-0.7042,  0.1767,  0.1145, -0.0517, -0.1174,  0.2156,  0.2910, -0.2945,\n",
              "         -0.2173, -0.4223]])"
            ]
          },
          "metadata": {},
          "execution_count": 64
        }
      ]
    },
    {
      "cell_type": "markdown",
      "source": [
        "텐서와 자동 미분"
      ],
      "metadata": {
        "id": "ueBpPfygdVdl"
      }
    },
    {
      "cell_type": "code",
      "source": [
        "x = torch.randn(100,3)\n",
        "# 미분의 변수로 사용하는 경우는 requires_grad를 True로 설정\n",
        "a = torch.tensor([1,2,3.],requires_grad=True)"
      ],
      "metadata": {
        "id": "vJZWGvg_dZr-"
      },
      "execution_count": null,
      "outputs": []
    },
    {
      "cell_type": "code",
      "source": [
        "# 계산을 통해 자동으로 계산 그래프가 구축된다\n",
        "y = torch.mv(x,a)\n",
        "o = y.sum()"
      ],
      "metadata": {
        "id": "9e6grF1ai0zt"
      },
      "execution_count": null,
      "outputs": []
    },
    {
      "cell_type": "code",
      "source": [
        "# 미분을 실행\n",
        "o.backward()"
      ],
      "metadata": {
        "id": "jp3uXD1Yj1i2"
      },
      "execution_count": null,
      "outputs": []
    },
    {
      "cell_type": "code",
      "source": [
        "# 분석 답과 비교\n",
        "a.grad != x.sum(0) # 이 부분 질문"
      ],
      "metadata": {
        "colab": {
          "base_uri": "https://localhost:8080/"
        },
        "id": "t68YcQlikOXo",
        "outputId": "7e629805-3ff0-4196-b76c-1c1c7967cdba"
      },
      "execution_count": null,
      "outputs": [
        {
          "output_type": "execute_result",
          "data": {
            "text/plain": [
              "tensor([True, True, True])"
            ]
          },
          "metadata": {},
          "execution_count": 19
        }
      ]
    },
    {
      "cell_type": "code",
      "source": [
        "# x는 requires_grad가 False이므로 미분이 계산되지 않는다\n",
        "x.grad is None"
      ],
      "metadata": {
        "colab": {
          "base_uri": "https://localhost:8080/"
        },
        "id": "SRfErjQvk8UV",
        "outputId": "648a4177-083f-4c67-d1de-3eb9aa84c602"
      },
      "execution_count": null,
      "outputs": [
        {
          "output_type": "execute_result",
          "data": {
            "text/plain": [
              "True"
            ]
          },
          "metadata": {},
          "execution_count": 20
        }
      ]
    }
  ]
}